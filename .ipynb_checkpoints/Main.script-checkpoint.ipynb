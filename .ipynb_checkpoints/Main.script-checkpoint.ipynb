{
 "cells": [
  {
   "cell_type": "code",
   "execution_count": null,
   "metadata": {},
   "outputs": [],
   "source": [
    "import pandas as pd\n",
    "import numpy as np\n",
    "from sklearn.svm import LinearSVR\n",
    "from sklearn.datasets import make_regression\n",
    "import matplotlib.pyplot as plt\n",
    "import random\n",
    "from matplotlib.pyplot import figure\n",
    "test_data = pd.read_csv(\"Sample.csv\")\n",
    "reference = pd.read_csv(\"Reference.csv\")\n",
    "train = reference.drop(\"Gene\",1)\n",
    "test = test_data.drop(\"gene\",1)\n",
    "\n",
    "score_adj = []\n",
    "for o in range(len(test_data.columns)):\n",
    "    test = test_data.loc[:,test_data.columns[o]]\n",
    "    im_name = train.columns\n",
    "    svr = LinearSVR(random_state=0)\n",
    "    model = svr.fit(train, test)\n",
    "    score = model.coef_\n",
    "    score[np.where(score<0)] = 0 \n",
    "    score_adj.append((score/sum(score)))\n",
    "score_adj = pd.DataFrame(score_adj)\n",
    "score_adj.columns = im_name\n",
    "score_adj.plot(kind='bar', stacked=True,legend=False)\n",
    "plt.legend(loc='center left', bbox_to_anchor=(1.0, 0.5))\n",
    "plt.suptitle(\"Flow&Estimate\")\n",
    "plt.rcParams['figure.figsize'] = (6.69,8.86)\n",
    "plt.rcParams['figure.dpi'] = 300\n",
    "name = \"4.bar.pdf\"\n",
    "plt.savefig(name,bbox_inches=\"tight\" )\n",
    "plt.close()\n",
    "plt.boxplot(score_adj.T,patch_artist = True)\n",
    "plt.suptitle(\"Flow&Estimate\")\n",
    "plt.xticks(range(8), im_name)\n",
    "plt.rcParams['figure.figsize'] = (6.69,8.86)\n",
    "plt.rcParams['figure.dpi'] = 300\n",
    "name = \"5.boxplot.pdf\"\n",
    "plt.savefig(name)\n",
    "\n",
    "score_adj.to_csv(\"score.csv\")"
   ]
  },
  {
   "cell_type": "code",
   "execution_count": 67,
   "metadata": {},
   "outputs": [],
   "source": [
    "import pandas as pd\n",
    "import numpy as np\n",
    "from sklearn.svm import LinearSVR\n",
    "from sklearn.datasets import make_regression\n",
    "import matplotlib.pyplot as plt\n",
    "import random\n",
    "from matplotlib.pyplot import figure\n",
    "test_data = pd.read_table(\"GEP.txt\")\n",
    "reference = pd.read_csv(\"Reference.csv\")\n",
    "rgname = reference[\"Gene\"]\n",
    "tgname = test_data[\"gene\"]"
   ]
  },
  {
   "cell_type": "code",
   "execution_count": 49,
   "metadata": {},
   "outputs": [
    {
     "data": {
      "text/plain": [
       "0         6.707349\n",
       "1         6.053295\n",
       "2         5.131445\n",
       "3         8.399729\n",
       "4         3.354675\n",
       "5         8.066096\n",
       "6         5.767012\n",
       "7         4.060017\n",
       "8         7.581366\n",
       "9         3.550428\n",
       "10        5.083121\n",
       "11        6.295999\n",
       "12        5.287494\n",
       "13        5.864785\n",
       "14        6.660693\n",
       "15        4.759261\n",
       "16        4.670040\n",
       "17        5.510410\n",
       "18        6.313197\n",
       "19        2.699283\n",
       "20        3.195357\n",
       "21        4.648201\n",
       "22        5.452416\n",
       "23        5.305821\n",
       "24        5.305627\n",
       "25        5.620545\n",
       "26        6.043447\n",
       "27        3.894244\n",
       "28        6.073390\n",
       "29        4.042758\n",
       "           ...    \n",
       "44314     8.316104\n",
       "44315     8.558895\n",
       "44316     7.857687\n",
       "44317     7.101155\n",
       "44318     4.182233\n",
       "44319     3.936968\n",
       "44320     7.231769\n",
       "44321     8.539464\n",
       "44322     4.216508\n",
       "44323     7.576947\n",
       "44324     9.346791\n",
       "44325     2.908013\n",
       "44326     6.337306\n",
       "44327     6.655007\n",
       "44328     6.447851\n",
       "44329     5.783766\n",
       "44330     4.100868\n",
       "44331     4.797353\n",
       "44332     7.051112\n",
       "44333     6.545791\n",
       "44334    13.156448\n",
       "44335    11.297005\n",
       "44336    12.167111\n",
       "44337    11.830595\n",
       "44338     9.840989\n",
       "44339    10.971648\n",
       "44340    11.082310\n",
       "44341     4.036564\n",
       "44342     6.995204\n",
       "44343     7.806846\n",
       "Name: GSM972736, Length: 44344, dtype: float64"
      ]
     },
     "execution_count": 49,
     "metadata": {},
     "output_type": "execute_result"
    }
   ],
   "source": [
    "test"
   ]
  },
  {
   "cell_type": "code",
   "execution_count": 72,
   "metadata": {},
   "outputs": [
    {
     "data": {
      "text/plain": [
       "23366"
      ]
     },
     "execution_count": 72,
     "metadata": {},
     "output_type": "execute_result"
    }
   ],
   "source": []
  },
  {
   "cell_type": "code",
   "execution_count": null,
   "metadata": {},
   "outputs": [],
   "source": []
  }
 ],
 "metadata": {
  "kernelspec": {
   "display_name": "Python 3",
   "language": "python",
   "name": "python3"
  },
  "language_info": {
   "codemirror_mode": {
    "name": "ipython",
    "version": 3
   },
   "file_extension": ".py",
   "mimetype": "text/x-python",
   "name": "python",
   "nbconvert_exporter": "python",
   "pygments_lexer": "ipython3",
   "version": "3.6.5"
  }
 },
 "nbformat": 4,
 "nbformat_minor": 2
}
